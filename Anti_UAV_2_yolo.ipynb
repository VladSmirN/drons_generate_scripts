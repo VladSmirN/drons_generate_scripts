{
 "cells": [
  {
   "cell_type": "code",
   "execution_count": 1,
   "metadata": {
    "collapsed": true
   },
   "outputs": [],
   "source": [
    "from PIL import Image, ImageDraw\n",
    "import os\n",
    "import pandas as pd\n",
    "import glob\n",
    "import numpy as np\n",
    "import shutil\n",
    "import  xml.dom.minidom\n",
    "from tqdm.auto import tqdm"
   ]
  },
  {
   "cell_type": "code",
   "execution_count": 2,
   "outputs": [],
   "source": [
    "TEST_IMAGES_INPUT_DIR = r\"C:\\project\\Computer_Vision\\term_paper_2023\\datasets\\test_Anti-UAV\\test\\img\"\n",
    "TEST_LABELS_INPUT_DIR = r\"C:\\project\\Computer_Vision\\term_paper_2023\\datasets\\test_Anti-UAV\\test\\xml\"\n",
    "\n",
    "VALID_IMAGES_INPUT_DIR = r\"C:\\project\\Computer_Vision\\term_paper_2023\\datasets\\val_Anti-UAV\\val\\img\"\n",
    "VALID_LABELS_INPUT_DIR = r\"C:\\project\\Computer_Vision\\term_paper_2023\\datasets\\val_Anti-UAV\\val\\xml\"\n",
    "\n",
    "TRAIN_IMAGES_INPUT_DIR = r\"C:\\project\\Computer_Vision\\term_paper_2023\\datasets\\antiuav_train\\img\"\n",
    "TRAIN_LABELS_INPUT_DIR = r\"C:\\project\\Computer_Vision\\term_paper_2023\\datasets\\antiuav_train\\xml\"\n",
    "\n",
    "YOLO_DIR = r\"C:\\project\\Computer_Vision\\term_paper_2023\\datasets\\Anti_UAV_yolo_1024\"\n",
    "\n",
    "TEST_IMAGES_YOLO_DIR = os.path.join(YOLO_DIR, \"test\", \"images\")\n",
    "TEST_LABELS_YOLO_DIR = os.path.join(YOLO_DIR, \"test\", \"labels\")\n",
    "\n",
    "VALID_IMAGES_YOLO_DIR = os.path.join(YOLO_DIR, \"valid\", \"images\")\n",
    "VALID_LABELS_YOLO_DIR = os.path.join(YOLO_DIR, \"valid\", \"labels\")\n",
    "\n",
    "TRAIN_IMAGES_YOLO_DIR = os.path.join(YOLO_DIR, \"train\", \"images\")\n",
    "TRAIN_LABELS_YOLO_DIR = os.path.join(YOLO_DIR, \"train\", \"labels\")\n",
    "\n",
    "if os.path.exists(YOLO_DIR):\n",
    "    shutil.rmtree(YOLO_DIR)\n",
    "\n",
    "os.makedirs(os.path.join(TEST_IMAGES_YOLO_DIR))\n",
    "os.makedirs(os.path.join(TEST_LABELS_YOLO_DIR))\n",
    "os.makedirs(os.path.join(VALID_IMAGES_YOLO_DIR))\n",
    "os.makedirs(os.path.join(VALID_LABELS_YOLO_DIR))\n",
    "os.makedirs(os.path.join(TRAIN_IMAGES_YOLO_DIR))\n",
    "os.makedirs(os.path.join(TRAIN_LABELS_YOLO_DIR))\n",
    "\n",
    "def parse_xml(path_xml):\n",
    "    dom = xml.dom.minidom.parse(path_xml)\n",
    "    coords_drons = []\n",
    "    for i in range(len(dom.getElementsByTagName('xmin'))):\n",
    "        xmin = int(dom.getElementsByTagName('xmin')[i].childNodes[0].data)\n",
    "        ymin = int(dom.getElementsByTagName('ymin')[i].childNodes[0].data)\n",
    "        xmax = int(dom.getElementsByTagName('xmax')[i].childNodes[0].data)\n",
    "        ymax = int(dom.getElementsByTagName('ymax')[i].childNodes[0].data)\n",
    "        coords_drons.append((xmin, ymin, xmax, ymax))\n",
    "\n",
    "    width = int(dom.getElementsByTagName('width')[0].childNodes[0].data)\n",
    "    height = int(dom.getElementsByTagName('height')[0].childNodes[0].data)\n",
    "    return coords_drons , width, height\n",
    "\n",
    "def get_df(images_path, labels_path):\n",
    "    df = pd.DataFrame (glob.glob( os.path.join(images_path,'*.jpg')), columns=['path_image'])\n",
    "    df[\"id\"] = df['path_image'].apply(lambda x : x.split('\\\\')[-1].split('.')[0])\n",
    "    df[\"path_label\"] = df['id'].apply(lambda x : os.path.join(labels_path,f\"{x}.xml\"))\n",
    "    return df\n",
    "\n",
    "def check_yolo_label(image, x_center_yolo, y_center_yolo, width_drone_yolo, height_drone_yolo):\n",
    "\n",
    "    width, height = image.size\n",
    "    x0 = (x_center_yolo - width_drone_yolo/2)*width\n",
    "    y0 = (y_center_yolo - height_drone_yolo/2)*height\n",
    "\n",
    "    x1 = (x_center_yolo + width_drone_yolo/2)*width\n",
    "    y1 = (y_center_yolo - height_drone_yolo/2)*height\n",
    "\n",
    "    x2 = (x_center_yolo + width_drone_yolo/2)*width\n",
    "    y2 = (y_center_yolo + height_drone_yolo/2)*height\n",
    "\n",
    "    x3 = (x_center_yolo - width_drone_yolo/2)*width\n",
    "    y3 = (y_center_yolo + height_drone_yolo/2)*height\n",
    "\n",
    "    draw_image = ImageDraw.Draw(image)\n",
    "    draw_image.line(((x0, y0), (x1, y1), (x2, y2), (x3, y3), (x0, y0)), fill=(255, 0, 0))\n",
    "    image.show()"
   ],
   "metadata": {
    "collapsed": false
   }
  },
  {
   "cell_type": "code",
   "execution_count": 3,
   "outputs": [],
   "source": [
    "def dataset2yolo(df, images_path, labels_path):\n",
    "    for i, row in tqdm(df.iterrows()):\n",
    "        coords_drons , width_image, height_image = parse_xml(row['path_label'])\n",
    "        str_label_yolo = \"\"\n",
    "        for xmin, ymin, xmax, ymax in coords_drons:\n",
    "\n",
    "            width_drone = (xmax - xmin)\n",
    "            height_drone = (ymax - ymin)\n",
    "            width_drone_yolo = width_drone / width_image\n",
    "            height_drone_yolo = height_drone / height_image\n",
    "\n",
    "            x_center_yolo = (xmin + width_drone / 2) / width_image\n",
    "            y_center_yolo = (ymin + height_drone / 2) / height_image\n",
    "\n",
    "            str_label_yolo += f\"0 {x_center_yolo} {y_center_yolo} {width_drone_yolo} {height_drone_yolo} \\n\"\n",
    "\n",
    "            #CHECK LABEL\n",
    "            # if i<5:\n",
    "            #     check_yolo_label(Image.open(row['path_image']), x_center_yolo, y_center_yolo, width_drone_yolo, height_drone_yolo )\n",
    "\n",
    "        path_label_output = os.path.join(labels_path, row['id'] + '.txt')\n",
    "\n",
    "        with open(path_label_output, 'w') as f:\n",
    "            f.write(str_label_yolo)\n",
    "        image_save_path = os.path.join(images_path, f\"{row['id']}.jpg\")\n",
    "        Image.open(row['path_image']).resize((1024,1024)).save(image_save_path)\n",
    "        # shutil.copy(row['path_image'], os.path.join(images_path, f\"{row['id']}.jpg\"))"
   ],
   "metadata": {
    "collapsed": false
   }
  },
  {
   "cell_type": "code",
   "execution_count": 4,
   "outputs": [],
   "source": [
    "df_test = get_df(TEST_IMAGES_INPUT_DIR, TEST_LABELS_INPUT_DIR)\n",
    "df_valid = get_df(VALID_IMAGES_INPUT_DIR, VALID_LABELS_INPUT_DIR)\n",
    "df_train = get_df(TRAIN_IMAGES_INPUT_DIR, TRAIN_LABELS_INPUT_DIR)"
   ],
   "metadata": {
    "collapsed": false
   }
  },
  {
   "cell_type": "code",
   "execution_count": 5,
   "outputs": [
    {
     "data": {
      "text/plain": "0it [00:00, ?it/s]",
      "application/vnd.jupyter.widget-view+json": {
       "version_major": 2,
       "version_minor": 0,
       "model_id": "4d8a7a282de647a39ca9b859184624ac"
      }
     },
     "metadata": {},
     "output_type": "display_data"
    },
    {
     "data": {
      "text/plain": "0it [00:00, ?it/s]",
      "application/vnd.jupyter.widget-view+json": {
       "version_major": 2,
       "version_minor": 0,
       "model_id": "3bb376a08eb040ed9d3c17e9172cb2ee"
      }
     },
     "metadata": {},
     "output_type": "display_data"
    },
    {
     "data": {
      "text/plain": "0it [00:00, ?it/s]",
      "application/vnd.jupyter.widget-view+json": {
       "version_major": 2,
       "version_minor": 0,
       "model_id": "51549c43238240b3b50d12aa432f9116"
      }
     },
     "metadata": {},
     "output_type": "display_data"
    },
    {
     "data": {
      "text/plain": "'C:\\\\project\\\\Computer_Vision\\\\term_paper_2023\\\\datasets\\\\Anti_UAV_yolo_1024.zip'"
     },
     "execution_count": 5,
     "metadata": {},
     "output_type": "execute_result"
    }
   ],
   "source": [
    "dataset2yolo(df_test,TEST_IMAGES_YOLO_DIR, TEST_LABELS_YOLO_DIR)\n",
    "dataset2yolo(df_valid,VALID_IMAGES_YOLO_DIR, VALID_LABELS_YOLO_DIR)\n",
    "dataset2yolo(df_train,TRAIN_IMAGES_YOLO_DIR, TRAIN_LABELS_YOLO_DIR)\n",
    "shutil.make_archive(YOLO_DIR, 'zip', YOLO_DIR)"
   ],
   "metadata": {
    "collapsed": false
   }
  }
 ],
 "metadata": {
  "kernelspec": {
   "display_name": "Python 3",
   "language": "python",
   "name": "python3"
  },
  "language_info": {
   "codemirror_mode": {
    "name": "ipython",
    "version": 2
   },
   "file_extension": ".py",
   "mimetype": "text/x-python",
   "name": "python",
   "nbconvert_exporter": "python",
   "pygments_lexer": "ipython2",
   "version": "2.7.6"
  }
 },
 "nbformat": 4,
 "nbformat_minor": 0
}
