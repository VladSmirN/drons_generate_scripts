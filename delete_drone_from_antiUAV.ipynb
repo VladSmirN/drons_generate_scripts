{
 "cells": [
  {
   "cell_type": "code",
   "execution_count": 29,
   "metadata": {
    "collapsed": true
   },
   "outputs": [],
   "source": [
    "import numpy as np\n",
    "import cv2 as cv\n",
    "from utility import parse_xml\n",
    "import pandas as pd\n",
    "import glob\n",
    "import os\n",
    "from tqdm.auto import tqdm\n",
    "import shutil\n",
    "PATH_IMAGES = r\"C:\\project\\Computer_Vision\\term_paper_2023\\datasets\\antiuav_train\\img\"\n",
    "PATH_LABELS = r\"C:\\project\\Computer_Vision\\term_paper_2023\\datasets\\antiuav_train\\xml\"\n",
    "PATH_SAVE =  r\"C:\\project\\Computer_Vision\\term_paper_2023\\datasets\\background_from_antiUAV\"\n",
    "# img = cv.imread('messi_2.jpg')\n",
    "# mask = cv.imread('mask2.png', cv.IMREAD_GRAYSCALE)\n",
    "# dst = cv.inpaint(img,mask,3,cv.INPAINT_TELEA)\n",
    "# cv.imshow('dst',dst)\n",
    "# cv.waitKey(0)\n",
    "# cv.destroyAllWindows()\n",
    "if os.path.exists(PATH_SAVE):\n",
    "    shutil.rmtree(PATH_SAVE)\n",
    "os.makedirs(PATH_SAVE)"
   ]
  },
  {
   "cell_type": "code",
   "execution_count": 30,
   "outputs": [],
   "source": [
    "def get_df(images_path, labels_path):\n",
    "    df = pd.DataFrame (glob.glob( os.path.join(images_path,'*.jpg')), columns=['path_image'])\n",
    "    df[\"id\"] = df['path_image'].apply(lambda x : x.split('\\\\')[-1].split('.')[0])\n",
    "    df[\"path_label\"] = df['id'].apply(lambda x : os.path.join(labels_path,f\"{x}.xml\"))\n",
    "    return df"
   ],
   "metadata": {
    "collapsed": false
   }
  },
  {
   "cell_type": "code",
   "execution_count": 31,
   "outputs": [],
   "source": [
    "df = get_df(PATH_IMAGES,PATH_LABELS)"
   ],
   "metadata": {
    "collapsed": false
   }
  },
  {
   "cell_type": "code",
   "execution_count": 32,
   "outputs": [],
   "source": [
    "\n",
    "# mask = np.zeros(image.shape[:2], dtype=\"uint8\")\n",
    "# cv2.rectangle(mask, (0, 90), (290, 450), 255, -1)\n",
    "# cv2.imshow(\"Rectangular Mask\", mask)\n",
    "# # apply our mask -- notice how only the person in the image is\n",
    "# # cropped out\n",
    "# masked = cv2.bitwise_and(image, image, mask=mask)\n",
    "# cv2.imshow(\"Mask Applied to Image\", masked)\n",
    "# cv2.waitKey(0)"
   ],
   "metadata": {
    "collapsed": false
   }
  },
  {
   "cell_type": "code",
   "execution_count": 33,
   "outputs": [
    {
     "data": {
      "text/plain": "0it [00:00, ?it/s]",
      "application/vnd.jupyter.widget-view+json": {
       "version_major": 2,
       "version_minor": 0,
       "model_id": "149c65a0b10948c088988d98524a4a14"
      }
     },
     "metadata": {},
     "output_type": "display_data"
    }
   ],
   "source": [
    "for i, row in tqdm(df.iterrows()):\n",
    "        coords_drons , width_image, height_image = parse_xml(row['path_label'])\n",
    "        image = cv.imread(row['path_image'])\n",
    "        mask = np.zeros(image.shape[:2], dtype=\"uint8\")\n",
    "        flag = True\n",
    "        for xmin, ymin, xmax, ymax in coords_drons:\n",
    "            area = (xmax-xmin)*(ymax-ymin)/width_image/height_image\n",
    "            if  area > 0.0011:\n",
    "                flag = False\n",
    "                break\n",
    "            cv.rectangle(mask, (xmin-5, ymin-5), (xmax+5, ymax+5), 255, -1)\n",
    "        if flag:\n",
    "            image = cv.inpaint(image,mask,3,cv.INPAINT_TELEA)\n",
    "            cv.imwrite(os.path.join(PATH_SAVE,f'{row[\"id\"]}.jpg'), image)"
   ],
   "metadata": {
    "collapsed": false
   }
  },
  {
   "cell_type": "code",
   "execution_count": 33,
   "outputs": [],
   "source": [],
   "metadata": {
    "collapsed": false
   }
  }
 ],
 "metadata": {
  "kernelspec": {
   "display_name": "Python 3",
   "language": "python",
   "name": "python3"
  },
  "language_info": {
   "codemirror_mode": {
    "name": "ipython",
    "version": 2
   },
   "file_extension": ".py",
   "mimetype": "text/x-python",
   "name": "python",
   "nbconvert_exporter": "python",
   "pygments_lexer": "ipython2",
   "version": "2.7.6"
  }
 },
 "nbformat": 4,
 "nbformat_minor": 0
}
