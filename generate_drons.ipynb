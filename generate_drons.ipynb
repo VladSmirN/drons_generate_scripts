{
 "cells": [
  {
   "cell_type": "code",
   "execution_count": 19,
   "outputs": [],
   "source": [
    "from PIL import Image, ImageOps\n",
    "import os\n",
    "import pandas as pd\n",
    "import glob\n",
    "import numpy as np\n",
    "import shutil\n",
    "from tqdm.auto import tqdm\n",
    "from utility import check_yolo_label\n",
    "import uuid\n",
    "import random\n",
    "import cv2\n",
    "\n",
    "DRONS_DIR = r\"C:\\project\\Computer_Vision\\term_paper_2023\\datasets\\Phantom 4 CGI 3\"\n",
    "BACKGROUND_DIR = r\"C:\\project\\Computer_Vision\\term_paper_2023\\datasets\\background_from_antiUAV\"\n",
    "GENERATE_DIR = r\"C:\\project\\Computer_Vision\\term_paper_2023\\generate_Phantom4_CGI_background_antiUAV_3\"\n",
    "# DRONS_DIR = r\"C:\\project\\Computer_Vision\\term_paper_2023\\datasets\\dataset_drone_without_background_crop\"\n",
    "# BACKGROUND_DIR = r\"C:\\project\\Computer_Vision\\term_paper_2023\\datasets\\background_for_generate\"\n",
    "# GENERATE_DIR = r\"C:\\project\\Computer_Vision\\term_paper_2023\\generate_drone_1024\"\n",
    "IMAGES_DIR = os.path.join(GENERATE_DIR, \"images\")\n",
    "MASKS_DIR = os.path.join(GENERATE_DIR, 'masks')\n",
    "YOLO_LABELS_DIR = os.path.join(GENERATE_DIR, 'labels')\n",
    "CHECK_YOLO_LABELS_DIR = os.path.join(GENERATE_DIR, 'check_labels')"
   ],
   "metadata": {
    "collapsed": false
   }
  },
  {
   "cell_type": "code",
   "execution_count": 20,
   "outputs": [],
   "source": [
    "if os.path.exists(YOLO_LABELS_DIR): shutil.rmtree(YOLO_LABELS_DIR)\n",
    "if os.path.exists(IMAGES_DIR): shutil.rmtree(IMAGES_DIR)\n",
    "if os.path.exists(MASKS_DIR): shutil.rmtree(MASKS_DIR)\n",
    "if os.path.exists(CHECK_YOLO_LABELS_DIR): shutil.rmtree(CHECK_YOLO_LABELS_DIR)\n",
    "os.makedirs(YOLO_LABELS_DIR)\n",
    "os.makedirs(IMAGES_DIR)\n",
    "os.makedirs(MASKS_DIR)\n",
    "os.makedirs(CHECK_YOLO_LABELS_DIR)"
   ],
   "metadata": {
    "collapsed": false
   }
  },
  {
   "cell_type": "code",
   "execution_count": 21,
   "outputs": [],
   "source": [
    "def get_dron_df():\n",
    "    df = pd.DataFrame (glob.glob( os.path.join(DRONS_DIR,'*.png')), columns=['path_image'])\n",
    "    df['id'] = df['path_image'].apply(lambda x : x.split('\\\\')[-1].split('.')[0])\n",
    "    return df\n",
    "\n",
    "def get_background_df():\n",
    "    df = pd.DataFrame (glob.glob( os.path.join(BACKGROUND_DIR,'*.jpg') ), columns=['path_image'])\n",
    "    df['id'] = df['path_image'].apply(lambda x : x.split('\\\\')[-1].split('.')[0])\n",
    "    return df\n",
    "\n",
    "df_drons = get_dron_df()\n",
    "df_background = get_background_df()"
   ],
   "metadata": {
    "collapsed": false
   }
  },
  {
   "cell_type": "code",
   "execution_count": 22,
   "outputs": [
    {
     "data": {
      "text/plain": "                                             path_image     id\n0     C:\\project\\Computer_Vision\\term_paper_2023\\dat...  00344\n1     C:\\project\\Computer_Vision\\term_paper_2023\\dat...  00363\n2     C:\\project\\Computer_Vision\\term_paper_2023\\dat...  00366\n3     C:\\project\\Computer_Vision\\term_paper_2023\\dat...  00380\n4     C:\\project\\Computer_Vision\\term_paper_2023\\dat...  00381\n...                                                 ...    ...\n3817  C:\\project\\Computer_Vision\\term_paper_2023\\dat...  05196\n3818  C:\\project\\Computer_Vision\\term_paper_2023\\dat...  05197\n3819  C:\\project\\Computer_Vision\\term_paper_2023\\dat...  05198\n3820  C:\\project\\Computer_Vision\\term_paper_2023\\dat...  05199\n3821  C:\\project\\Computer_Vision\\term_paper_2023\\dat...  05200\n\n[3822 rows x 2 columns]",
      "text/html": "<div>\n<style scoped>\n    .dataframe tbody tr th:only-of-type {\n        vertical-align: middle;\n    }\n\n    .dataframe tbody tr th {\n        vertical-align: top;\n    }\n\n    .dataframe thead th {\n        text-align: right;\n    }\n</style>\n<table border=\"1\" class=\"dataframe\">\n  <thead>\n    <tr style=\"text-align: right;\">\n      <th></th>\n      <th>path_image</th>\n      <th>id</th>\n    </tr>\n  </thead>\n  <tbody>\n    <tr>\n      <th>0</th>\n      <td>C:\\project\\Computer_Vision\\term_paper_2023\\dat...</td>\n      <td>00344</td>\n    </tr>\n    <tr>\n      <th>1</th>\n      <td>C:\\project\\Computer_Vision\\term_paper_2023\\dat...</td>\n      <td>00363</td>\n    </tr>\n    <tr>\n      <th>2</th>\n      <td>C:\\project\\Computer_Vision\\term_paper_2023\\dat...</td>\n      <td>00366</td>\n    </tr>\n    <tr>\n      <th>3</th>\n      <td>C:\\project\\Computer_Vision\\term_paper_2023\\dat...</td>\n      <td>00380</td>\n    </tr>\n    <tr>\n      <th>4</th>\n      <td>C:\\project\\Computer_Vision\\term_paper_2023\\dat...</td>\n      <td>00381</td>\n    </tr>\n    <tr>\n      <th>...</th>\n      <td>...</td>\n      <td>...</td>\n    </tr>\n    <tr>\n      <th>3817</th>\n      <td>C:\\project\\Computer_Vision\\term_paper_2023\\dat...</td>\n      <td>05196</td>\n    </tr>\n    <tr>\n      <th>3818</th>\n      <td>C:\\project\\Computer_Vision\\term_paper_2023\\dat...</td>\n      <td>05197</td>\n    </tr>\n    <tr>\n      <th>3819</th>\n      <td>C:\\project\\Computer_Vision\\term_paper_2023\\dat...</td>\n      <td>05198</td>\n    </tr>\n    <tr>\n      <th>3820</th>\n      <td>C:\\project\\Computer_Vision\\term_paper_2023\\dat...</td>\n      <td>05199</td>\n    </tr>\n    <tr>\n      <th>3821</th>\n      <td>C:\\project\\Computer_Vision\\term_paper_2023\\dat...</td>\n      <td>05200</td>\n    </tr>\n  </tbody>\n</table>\n<p>3822 rows × 2 columns</p>\n</div>"
     },
     "execution_count": 22,
     "metadata": {},
     "output_type": "execute_result"
    }
   ],
   "source": [
    "df_background"
   ],
   "metadata": {
    "collapsed": false
   }
  },
  {
   "cell_type": "code",
   "execution_count": 23,
   "outputs": [],
   "source": [
    "# generate_drone = r\"C:\\project\\Computer_Vision\\term_paper_2023\\experiments\\Anti UAV with small drone\\generate\\images\"\n",
    "# df = pd.DataFrame (glob.glob( os.path.join(generate_drone,'*.jpg')), columns=['path_image'])\n",
    "# df['id'] = df['path_image'].apply(lambda x : x.split('\\\\')[-1].split('.')[0])\n",
    "# df['background'] = df['id'].apply(lambda x : '_'.join(x.split('_')[2:])  )\n",
    "# df['background_path'] = df['background'].apply(lambda x : os.path.join(BACKGROUND_DIR,f\"{x}.jpg\")  )\n",
    "# for i,row in df.iterrows():\n",
    "#     save_path = r\"C:\\project\\Computer_Vision\\term_paper_2023\\datasets\\background_for_generate\"\n",
    "#     save_path = os.path.join(save_path,f\"{row['background']}.jpg\")\n",
    "#     shutil.copyfile(row['background_path'], save_path)"
   ],
   "metadata": {
    "collapsed": false
   }
  },
  {
   "cell_type": "code",
   "execution_count": 24,
   "outputs": [
    {
     "data": {
      "text/plain": "  0%|          | 0/1500 [00:00<?, ?it/s]",
      "application/vnd.jupyter.widget-view+json": {
       "version_major": 2,
       "version_minor": 0,
       "model_id": "38dc36f196a5477d9a4b85ef1835249e"
      }
     },
     "metadata": {},
     "output_type": "display_data"
    }
   ],
   "source": [
    "def to_binary(img):\n",
    "    T = 125\n",
    "    target = (np.array(img.split()[-1])>T).astype(int)\n",
    "    target = np.stack((target, target, target), axis=2) * 255\n",
    "    return Image.fromarray(np.uint8(target)).convert('RGBA')\n",
    "\n",
    "part_area_drone = []\n",
    "def compression_drone(drone,drone_mask, image_size, part_percent):\n",
    "    drone_width, drone_height = drone.size\n",
    "    ratio = drone_width / drone_height\n",
    "    area_drone = image_size*image_size*part_percent\n",
    "    new_height = (area_drone/ratio)**(0.5) * random.uniform(0.8, 1.2)\n",
    "    new_width = ratio*new_height * random.uniform(0.8, 1.2)\n",
    "    return drone.resize((int(new_width),int(new_height))), drone_mask.resize((int(new_width),int(new_height)))\n",
    "\n",
    "\n",
    "def generate_raw(n,min_area, max_area ):\n",
    "    drons = df_drons.sample(n, replace=True)\n",
    "    path_drons = drons['path_image'].to_list()\n",
    "    id_drons = drons['id'].to_list()\n",
    "    background = df_background.sample(n, replace=True)\n",
    "    path_backgrounds = background['path_image'].to_list()\n",
    "    id_backgrounds = background['id'].to_list()\n",
    "    id_image = []\n",
    "    xmin = []\n",
    "    ymin = []\n",
    "    xmax = []\n",
    "    ymax = []\n",
    "    output_size = 1024\n",
    "    for i in tqdm(range(n)):\n",
    "        try:\n",
    "            drone = Image.open(path_drons[i]).convert(\"RGBA\")\n",
    "\n",
    "            if random.uniform(0, 1) > 0.5:\n",
    "                drone = ImageOps.mirror(drone)\n",
    "            # drone = drone_to_red(drone)\n",
    "            # image = cv2.imread(path_drons[i])\n",
    "            # img_hsv = cv2.cvtColor(image, cv2.COLOR_BGR2HSV)\n",
    "            # img_hsv[:, :, 1] = 180\n",
    "            # img = cv2.cvtColor(img_hsv, cv2.COLOR_HSV2RGB)\n",
    "            # drone = Image.fromarray(img).convert(\"RGBA\")\n",
    "            # drone.show()\n",
    "            # break\n",
    "            background = Image.open(path_backgrounds[i]).convert(\"RGB\")\n",
    "\n",
    "            # background_width, background_height = background.size\n",
    "            #\n",
    "            # x_crop_background = np.random.randint(0, background_width - output_size, 1)[0]\n",
    "            # y_crop_background = np.random.randint(0, (background_height - output_size) * 0.3, 1)[0]\n",
    "\n",
    "\n",
    "\n",
    "            # background = background.crop((x_crop_background,\n",
    "            #                               y_crop_background,\n",
    "            #                               x_crop_background + output_size,\n",
    "            #                               y_crop_background + output_size))\n",
    "\n",
    "            background = background.resize((output_size,output_size))\n",
    "\n",
    "            drone,drone_mask = compression_drone(drone,drone, output_size, np.random.uniform(min_area, max_area, 1)[0])\n",
    "\n",
    "            drone_width, drone_height = drone.size\n",
    "            # print(drone_width*drone_height)\n",
    "            x_dron = np.random.randint(0, output_size - drone_width, 1)[0]\n",
    "            y_dron = np.random.randint(0, output_size - drone_height, 1)[0]\n",
    "\n",
    "            background.paste(drone, (x_dron, y_dron), drone_mask)\n",
    "\n",
    "            # SAVE MASK\n",
    "            mask = Image.new(\"RGBA\", (output_size, output_size), (0, 0, 0, 255))\n",
    "            bin_drone = to_binary(drone)\n",
    "            mask.paste(bin_drone, (x_dron, y_dron), drone)\n",
    "            mask.save(\n",
    "                os.path.join(MASKS_DIR, f\"{str(i)}_{str(id_drons[i])}_{str(id_backgrounds[i])}.png\"))\n",
    "\n",
    "            # mask = Image.new(\"RGBA\", (512, 512), (0, 0, 0, 255))\n",
    "            # rect = Image.new(\"RGBA\", (dron_width, dron_height), (255, 255, 255, 255))\n",
    "            # mask.paste(rect, (x_dron, y_dron), rect)\n",
    "            # mask.save(\n",
    "            #       os.path.join(MASKS_DIR, f\"{str(i)}_{str(id_drons[i])}_{str(id_backgrounds[i])}.png\"))\n",
    "\n",
    "            # SAVE GENERATE IMAGE\n",
    "            path_image_save = os.path.join(IMAGES_DIR , f\"{str(i)}_{str(id_drons[i])}_{str(id_backgrounds[i])}.jpg\")\n",
    "            background.save(path_image_save)\n",
    "\n",
    "            # FOR CSV\n",
    "            xmin.append(x_dron)\n",
    "            ymin.append(y_dron)\n",
    "            xmax.append(x_dron + drone_width)\n",
    "            ymax.append(y_dron + drone_height)\n",
    "            id_image.append(i)\n",
    "\n",
    "            # YOLO LABELS\n",
    "            width = drone_width / output_size\n",
    "            height = drone_height / output_size\n",
    "            x_center = (x_dron + drone_width / 2) / output_size\n",
    "            y_center = (y_dron + drone_height / 2) / output_size\n",
    "\n",
    "            str_ = \"0 \" + str(x_center) + \" \" + str(y_center) + \" \" + str(width) + \" \" + str(height)\n",
    "\n",
    "            path_label_coco = os.path.join(YOLO_LABELS_DIR, f\"{str(i)}_{str(id_drons[i])}_{str(id_backgrounds[i])}.txt\")\n",
    "            with open(path_label_coco, 'w') as f:\n",
    "                f.write(str_)\n",
    "\n",
    "            path_check_yolo_image = os.path.join(CHECK_YOLO_LABELS_DIR , f\"{str(i)}_{str(id_drons[i])}_{str(id_backgrounds[i])}.jpg\")\n",
    "            check_yolo_label(Image.open(path_image_save), x_center, y_center, width, height, save_path=path_check_yolo_image )\n",
    "\n",
    "            part_area_drone.append(width*height)\n",
    "        except Exception as e:\n",
    "            print(e)\n",
    "\n",
    "    df = pd.DataFrame()\n",
    "    df['xmin'] = xmin\n",
    "    df['ymin'] = ymin\n",
    "    df['xmax'] = xmax\n",
    "    df['ymax'] = ymax\n",
    "    df['id_image'] = id_image\n",
    "    df['part_area_drone'] = part_area_drone\n",
    "    df.to_csv(os.path.join(GENERATE_DIR, \"markup.csv\"))\n",
    "\n",
    "#delete trash\n",
    "# for i,row in tqdm(df_background.iterrows()):\n",
    "#     img = Image.open(row['path_image'])\n",
    "#     np_img =  np.asarray( img )\n",
    "#     if  len(np_img.shape) != 3 or np_img.shape[2] != 3:\n",
    "#         os.remove(row['path_image'])\n",
    "\n",
    "# print(df_drons)\n",
    "generate_raw(1500,0.0005,0.001)"
   ],
   "metadata": {
    "collapsed": false
   }
  },
  {
   "cell_type": "code",
   "execution_count": 24,
   "outputs": [],
   "source": [],
   "metadata": {
    "collapsed": false
   }
  }
 ],
 "metadata": {
  "kernelspec": {
   "display_name": "Python 3",
   "language": "python",
   "name": "python3"
  },
  "language_info": {
   "codemirror_mode": {
    "name": "ipython",
    "version": 2
   },
   "file_extension": ".py",
   "mimetype": "text/x-python",
   "name": "python",
   "nbconvert_exporter": "python",
   "pygments_lexer": "ipython2",
   "version": "2.7.6"
  }
 },
 "nbformat": 4,
 "nbformat_minor": 0
}
