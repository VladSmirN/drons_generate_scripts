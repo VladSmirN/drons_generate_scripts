{
 "cells": [
  {
   "cell_type": "code",
   "execution_count": 3,
   "metadata": {
    "collapsed": true
   },
   "outputs": [
    {
     "data": {
      "text/plain": "0it [00:00, ?it/s]",
      "application/vnd.jupyter.widget-view+json": {
       "version_major": 2,
       "version_minor": 0,
       "model_id": "307a92c15b324059b2986f2816243aef"
      }
     },
     "metadata": {},
     "output_type": "display_data"
    }
   ],
   "source": [
    "import pandas as pd\n",
    "import glob\n",
    "import os\n",
    "import cv2\n",
    "from tqdm.auto import tqdm\n",
    "import matplotlib.pyplot as plt\n",
    "import numpy as np\n",
    "import shutil\n",
    "from PIL import Image\n",
    "from PIL import ImageShow\n",
    "DRONS_DIR = r\"C:\\project\\Computer_Vision\\term_paper_2023\\drone-blend\\cgi_drone\"\n",
    "CROP_DRONE_DIR = r\"C:\\project\\Computer_Vision\\term_paper_2023\\datasets\\Phantom 4 CGI 3\"\n",
    "\n",
    "\n",
    "def get_dron_df():\n",
    "    df = pd.DataFrame (glob.glob( os.path.join(DRONS_DIR,'*.png')), columns=['path_image'])\n",
    "    df['id'] = df['path_image'].apply(lambda x : x.split('/')[-1].split('.')[0])\n",
    "    return df\n",
    "\n",
    "\n",
    "df_drons = get_dron_df()\n",
    "\n",
    "\n",
    "def find_min_max(img):\n",
    "    alpha = img.split()[-1]\n",
    "    arr = np.asarray(alpha)\n",
    "    xmin = 10000\n",
    "    xmax = -1\n",
    "    ymin = 10000\n",
    "    ymax = -1\n",
    "    for i,_ in  enumerate(arr):\n",
    "        for j,_ in  enumerate(arr[i]):\n",
    "            if arr[i][j] > 0 :\n",
    "                if i < ymin :\n",
    "                    ymin = i\n",
    "                if i > ymax :\n",
    "                    ymax = i\n",
    "                if j < xmin :\n",
    "                    xmin = j\n",
    "                if j > xmax :\n",
    "                    xmax = j\n",
    "    return  xmin, xmax, ymin ,ymax\n",
    "\n",
    "if not os.path.exists(CROP_DRONE_DIR):\n",
    "    os.makedirs(CROP_DRONE_DIR)\n",
    "\n",
    "for i,path in tqdm(enumerate(df_drons['path_image'].to_list())):\n",
    "    img = Image.open(path)\n",
    "    xmin, xmax, ymin ,ymax = find_min_max(img)\n",
    "    img = img.crop((xmin, ymin, xmax, ymax))\n",
    "    img.save(os.path.join(CROP_DRONE_DIR,str(i)+'.png'))\n"
   ]
  },
  {
   "cell_type": "code",
   "execution_count": 4,
   "outputs": [
    {
     "data": {
      "text/plain": "                                           path_image  \\\n0   C:\\project\\Computer_Vision\\term_paper_2023\\dro...   \n1   C:\\project\\Computer_Vision\\term_paper_2023\\dro...   \n2   C:\\project\\Computer_Vision\\term_paper_2023\\dro...   \n3   C:\\project\\Computer_Vision\\term_paper_2023\\dro...   \n4   C:\\project\\Computer_Vision\\term_paper_2023\\dro...   \n..                                                ...   \n90  C:\\project\\Computer_Vision\\term_paper_2023\\dro...   \n91  C:\\project\\Computer_Vision\\term_paper_2023\\dro...   \n92  C:\\project\\Computer_Vision\\term_paper_2023\\dro...   \n93  C:\\project\\Computer_Vision\\term_paper_2023\\dro...   \n94  C:\\project\\Computer_Vision\\term_paper_2023\\dro...   \n\n                                                   id  \n0   C:\\project\\Computer_Vision\\term_paper_2023\\dro...  \n1   C:\\project\\Computer_Vision\\term_paper_2023\\dro...  \n2   C:\\project\\Computer_Vision\\term_paper_2023\\dro...  \n3   C:\\project\\Computer_Vision\\term_paper_2023\\dro...  \n4   C:\\project\\Computer_Vision\\term_paper_2023\\dro...  \n..                                                ...  \n90  C:\\project\\Computer_Vision\\term_paper_2023\\dro...  \n91  C:\\project\\Computer_Vision\\term_paper_2023\\dro...  \n92  C:\\project\\Computer_Vision\\term_paper_2023\\dro...  \n93  C:\\project\\Computer_Vision\\term_paper_2023\\dro...  \n94  C:\\project\\Computer_Vision\\term_paper_2023\\dro...  \n\n[95 rows x 2 columns]",
      "text/html": "<div>\n<style scoped>\n    .dataframe tbody tr th:only-of-type {\n        vertical-align: middle;\n    }\n\n    .dataframe tbody tr th {\n        vertical-align: top;\n    }\n\n    .dataframe thead th {\n        text-align: right;\n    }\n</style>\n<table border=\"1\" class=\"dataframe\">\n  <thead>\n    <tr style=\"text-align: right;\">\n      <th></th>\n      <th>path_image</th>\n      <th>id</th>\n    </tr>\n  </thead>\n  <tbody>\n    <tr>\n      <th>0</th>\n      <td>C:\\project\\Computer_Vision\\term_paper_2023\\dro...</td>\n      <td>C:\\project\\Computer_Vision\\term_paper_2023\\dro...</td>\n    </tr>\n    <tr>\n      <th>1</th>\n      <td>C:\\project\\Computer_Vision\\term_paper_2023\\dro...</td>\n      <td>C:\\project\\Computer_Vision\\term_paper_2023\\dro...</td>\n    </tr>\n    <tr>\n      <th>2</th>\n      <td>C:\\project\\Computer_Vision\\term_paper_2023\\dro...</td>\n      <td>C:\\project\\Computer_Vision\\term_paper_2023\\dro...</td>\n    </tr>\n    <tr>\n      <th>3</th>\n      <td>C:\\project\\Computer_Vision\\term_paper_2023\\dro...</td>\n      <td>C:\\project\\Computer_Vision\\term_paper_2023\\dro...</td>\n    </tr>\n    <tr>\n      <th>4</th>\n      <td>C:\\project\\Computer_Vision\\term_paper_2023\\dro...</td>\n      <td>C:\\project\\Computer_Vision\\term_paper_2023\\dro...</td>\n    </tr>\n    <tr>\n      <th>...</th>\n      <td>...</td>\n      <td>...</td>\n    </tr>\n    <tr>\n      <th>90</th>\n      <td>C:\\project\\Computer_Vision\\term_paper_2023\\dro...</td>\n      <td>C:\\project\\Computer_Vision\\term_paper_2023\\dro...</td>\n    </tr>\n    <tr>\n      <th>91</th>\n      <td>C:\\project\\Computer_Vision\\term_paper_2023\\dro...</td>\n      <td>C:\\project\\Computer_Vision\\term_paper_2023\\dro...</td>\n    </tr>\n    <tr>\n      <th>92</th>\n      <td>C:\\project\\Computer_Vision\\term_paper_2023\\dro...</td>\n      <td>C:\\project\\Computer_Vision\\term_paper_2023\\dro...</td>\n    </tr>\n    <tr>\n      <th>93</th>\n      <td>C:\\project\\Computer_Vision\\term_paper_2023\\dro...</td>\n      <td>C:\\project\\Computer_Vision\\term_paper_2023\\dro...</td>\n    </tr>\n    <tr>\n      <th>94</th>\n      <td>C:\\project\\Computer_Vision\\term_paper_2023\\dro...</td>\n      <td>C:\\project\\Computer_Vision\\term_paper_2023\\dro...</td>\n    </tr>\n  </tbody>\n</table>\n<p>95 rows × 2 columns</p>\n</div>"
     },
     "execution_count": 4,
     "metadata": {},
     "output_type": "execute_result"
    }
   ],
   "source": [
    "df_drons"
   ],
   "metadata": {
    "collapsed": false
   }
  }
 ],
 "metadata": {
  "kernelspec": {
   "display_name": "Python 3",
   "language": "python",
   "name": "python3"
  },
  "language_info": {
   "codemirror_mode": {
    "name": "ipython",
    "version": 2
   },
   "file_extension": ".py",
   "mimetype": "text/x-python",
   "name": "python",
   "nbconvert_exporter": "python",
   "pygments_lexer": "ipython2",
   "version": "2.7.6"
  }
 },
 "nbformat": 4,
 "nbformat_minor": 0
}
